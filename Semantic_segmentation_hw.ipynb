{
 "cells": [
  {
   "cell_type": "markdown",
   "metadata": {
    "id": "L5Q_jQm8IwsJ"
   },
   "source": [
    "### Загрузка датасета COCO и кода COCO API\n",
    "Необходимо раскомментировать код ниже. В нём происходит скачивание и распаковка датасета COCO.\n",
    "Кроме того, здесь клонируется репозиторий с кодом COCO API (код для работы с данными из COCO)\n",
    "\n",
    "Запускать лучше всего в Google Cloab или на другой Linux-машине"
   ]
  },
  {
   "cell_type": "code",
   "execution_count": 1,
   "metadata": {
    "id": "H306Fzq_0Mzi"
   },
   "outputs": [
    {
     "name": "stdout",
     "output_type": "stream",
     "text": [
      "--2021-10-01 22:59:50--  http://images.cocodataset.org/zips/train2017.zip\n",
      "Resolving images.cocodataset.org (images.cocodataset.org)... 52.217.199.105\n",
      "Connecting to images.cocodataset.org (images.cocodataset.org)|52.217.199.105|:80... connected.\n",
      "HTTP request sent, awaiting response... 200 OK\n",
      "Length: 19336861798 (18G) [application/zip]\n",
      "Saving to: ‘train2017.zip.2’\n",
      "\n",
      "train2017.zip.2     100%[===================>]  18,01G  1,76MB/s    in 3h 23m  \n",
      "\n",
      "2021-10-02 02:22:59 (1,51 MB/s) - ‘train2017.zip.2’ saved [19336861798/19336861798]\n",
      "\n",
      "--2021-10-02 02:23:00--  http://images.cocodataset.org/zips/val2017.zip\n",
      "Resolving images.cocodataset.org (images.cocodataset.org)... 52.217.13.180\n",
      "Connecting to images.cocodataset.org (images.cocodataset.org)|52.217.13.180|:80... connected.\n",
      "HTTP request sent, awaiting response... 200 OK\n",
      "Length: 815585330 (778M) [application/zip]\n",
      "Saving to: ‘val2017.zip.1’\n",
      "\n",
      "val2017.zip.1       100%[===================>] 777,80M  1,54MB/s    in 7m 23s  \n",
      "\n",
      "2021-10-02 02:30:24 (1,75 MB/s) - ‘val2017.zip.1’ saved [815585330/815585330]\n",
      "\n",
      "--2021-10-02 02:30:24--  http://images.cocodataset.org/annotations/annotations_trainval2017.zip\n",
      "Resolving images.cocodataset.org (images.cocodataset.org)... 52.216.107.164\n",
      "Connecting to images.cocodataset.org (images.cocodataset.org)|52.216.107.164|:80... connected.\n",
      "HTTP request sent, awaiting response... 200 OK\n",
      "Length: 252907541 (241M) [application/zip]\n",
      "Saving to: ‘annotations_trainval2017.zip’\n",
      "\n",
      "annotations_trainva 100%[===================>] 241,19M  1,63MB/s    in 2m 23s  \n",
      "\n",
      "2021-10-02 02:32:47 (1,69 MB/s) - ‘annotations_trainval2017.zip’ saved [252907541/252907541]\n",
      "\n",
      "[train2017.zip]\n",
      "  End-of-central-directory signature not found.  Either this file is not\n",
      "  a zipfile, or it constitutes one disk of a multi-part archive.  In the\n",
      "  latter case the central directory and zipfile comment will be found on\n",
      "  the last disk(s) of this archive.\n",
      "unzip:  cannot find zipfile directory in one of train2017.zip or\n",
      "        train2017.zip.zip, and cannot find train2017.zip.ZIP, period.\n",
      "Cloning into 'cocoapi'...\n",
      "remote: Enumerating objects: 975, done.\u001b[K\n",
      "remote: Total 975 (delta 0), reused 0 (delta 0), pack-reused 975\u001b[K\n",
      "Receiving objects: 100% (975/975), 11.72 MiB | 2.02 MiB/s, done.\n",
      "Resolving deltas: 100% (576/576), done.\n",
      "python setup.py build_ext --inplace\n",
      "running build_ext\n",
      "building 'pycocotools._mask' extension\n",
      "creating build\n",
      "creating build/common\n",
      "creating build/temp.linux-x86_64-3.9\n",
      "creating build/temp.linux-x86_64-3.9/pycocotools\n",
      "x86_64-linux-gnu-gcc -pthread -Wno-unused-result -Wsign-compare -DNDEBUG -g -fwrapv -O2 -Wall -g -ffile-prefix-map=/build/python3.9-1n6GrT/python3.9-3.9.5=. -fstack-protector-strong -Wformat -Werror=format-security -g -fwrapv -O2 -g -ffile-prefix-map=/build/python3.9-1n6GrT/python3.9-3.9.5=. -fstack-protector-strong -Wformat -Werror=format-security -Wdate-time -D_FORTIFY_SOURCE=2 -fPIC -I/usr/lib/python3/dist-packages/numpy/core/include -I../common -I/usr/include/python3.9 -c ../common/maskApi.c -o build/temp.linux-x86_64-3.9/../common/maskApi.o -Wno-cpp -Wno-unused-function -std=c99\n",
      "\u001b[01m\u001b[K../common/maskApi.c:\u001b[m\u001b[K In function ‘\u001b[01m\u001b[KrleDecode\u001b[m\u001b[K’:\n",
      "\u001b[01m\u001b[K../common/maskApi.c:46:7:\u001b[m\u001b[K \u001b[01;35m\u001b[Kwarning: \u001b[m\u001b[Kthis ‘\u001b[01m\u001b[Kfor\u001b[m\u001b[K’ clause does not guard... [\u001b[01;35m\u001b[K\u001b]8;;https://gcc.gnu.org/onlinedocs/gcc/Warning-Options.html#index-Wmisleading-indentation\u0007-Wmisleading-indentation\u001b]8;;\u0007\u001b[m\u001b[K]\n",
      "   46 |       \u001b[01;35m\u001b[Kfor\u001b[m\u001b[K( k=0; k<R[i].cnts[j]; k++ ) *(M++)=v; v=!v; }}\n",
      "      |       \u001b[01;35m\u001b[K^~~\u001b[m\u001b[K\n",
      "\u001b[01m\u001b[K../common/maskApi.c:46:49:\u001b[m\u001b[K \u001b[01;36m\u001b[Knote: \u001b[m\u001b[K...this statement, but the latter is misleadingly indented as if it were guarded by the ‘\u001b[01m\u001b[Kfor\u001b[m\u001b[K’\n",
      "   46 |       for( k=0; k<R[i].cnts[j]; k++ ) *(M++)=v; \u001b[01;36m\u001b[Kv\u001b[m\u001b[K=!v; }}\n",
      "      |                                                 \u001b[01;36m\u001b[K^\u001b[m\u001b[K\n",
      "\u001b[01m\u001b[K../common/maskApi.c:\u001b[m\u001b[K In function ‘\u001b[01m\u001b[KrleFrPoly\u001b[m\u001b[K’:\n",
      "\u001b[01m\u001b[K../common/maskApi.c:166:3:\u001b[m\u001b[K \u001b[01;35m\u001b[Kwarning: \u001b[m\u001b[Kthis ‘\u001b[01m\u001b[Kfor\u001b[m\u001b[K’ clause does not guard... [\u001b[01;35m\u001b[K\u001b]8;;https://gcc.gnu.org/onlinedocs/gcc/Warning-Options.html#index-Wmisleading-indentation\u0007-Wmisleading-indentation\u001b]8;;\u0007\u001b[m\u001b[K]\n",
      "  166 |   \u001b[01;35m\u001b[Kfor\u001b[m\u001b[K(j=0; j<k; j++) x[j]=(int)(scale*xy[j*2+0]+.5); x[k]=x[0];\n",
      "      |   \u001b[01;35m\u001b[K^~~\u001b[m\u001b[K\n",
      "\u001b[01m\u001b[K../common/maskApi.c:166:54:\u001b[m\u001b[K \u001b[01;36m\u001b[Knote: \u001b[m\u001b[K...this statement, but the latter is misleadingly indented as if it were guarded by the ‘\u001b[01m\u001b[Kfor\u001b[m\u001b[K’\n",
      "  166 |   for(j=0; j<k; j++) x[j]=(int)(scale*xy[j*2+0]+.5); \u001b[01;36m\u001b[Kx\u001b[m\u001b[K[k]=x[0];\n",
      "      |                                                      \u001b[01;36m\u001b[K^\u001b[m\u001b[K\n",
      "\u001b[01m\u001b[K../common/maskApi.c:167:3:\u001b[m\u001b[K \u001b[01;35m\u001b[Kwarning: \u001b[m\u001b[Kthis ‘\u001b[01m\u001b[Kfor\u001b[m\u001b[K’ clause does not guard... [\u001b[01;35m\u001b[K\u001b]8;;https://gcc.gnu.org/onlinedocs/gcc/Warning-Options.html#index-Wmisleading-indentation\u0007-Wmisleading-indentation\u001b]8;;\u0007\u001b[m\u001b[K]\n",
      "  167 |   \u001b[01;35m\u001b[Kfor\u001b[m\u001b[K(j=0; j<k; j++) y[j]=(int)(scale*xy[j*2+1]+.5); y[k]=y[0];\n",
      "      |   \u001b[01;35m\u001b[K^~~\u001b[m\u001b[K\n",
      "\u001b[01m\u001b[K../common/maskApi.c:167:54:\u001b[m\u001b[K \u001b[01;36m\u001b[Knote: \u001b[m\u001b[K...this statement, but the latter is misleadingly indented as if it were guarded by the ‘\u001b[01m\u001b[Kfor\u001b[m\u001b[K’\n",
      "  167 |   for(j=0; j<k; j++) y[j]=(int)(scale*xy[j*2+1]+.5); \u001b[01;36m\u001b[Ky\u001b[m\u001b[K[k]=y[0];\n",
      "      |                                                      \u001b[01;36m\u001b[K^\u001b[m\u001b[K\n",
      "\u001b[01m\u001b[K../common/maskApi.c:\u001b[m\u001b[K In function ‘\u001b[01m\u001b[KrleToString\u001b[m\u001b[K’:\n",
      "\u001b[01m\u001b[K../common/maskApi.c:212:7:\u001b[m\u001b[K \u001b[01;35m\u001b[Kwarning: \u001b[m\u001b[Kthis ‘\u001b[01m\u001b[Kif\u001b[m\u001b[K’ clause does not guard... [\u001b[01;35m\u001b[K\u001b]8;;https://gcc.gnu.org/onlinedocs/gcc/Warning-Options.html#index-Wmisleading-indentation\u0007-Wmisleading-indentation\u001b]8;;\u0007\u001b[m\u001b[K]\n",
      "  212 |       \u001b[01;35m\u001b[Kif\u001b[m\u001b[K(more) c |= 0x20; c+=48; s[p++]=c;\n",
      "      |       \u001b[01;35m\u001b[K^~\u001b[m\u001b[K\n",
      "\u001b[01m\u001b[K../common/maskApi.c:212:27:\u001b[m\u001b[K \u001b[01;36m\u001b[Knote: \u001b[m\u001b[K...this statement, but the latter is misleadingly indented as if it were guarded by the ‘\u001b[01m\u001b[Kif\u001b[m\u001b[K’\n",
      "  212 |       if(more) c |= 0x20; \u001b[01;36m\u001b[Kc\u001b[m\u001b[K+=48; s[p++]=c;\n",
      "      |                           \u001b[01;36m\u001b[K^\u001b[m\u001b[K\n",
      "\u001b[01m\u001b[K../common/maskApi.c:\u001b[m\u001b[K In function ‘\u001b[01m\u001b[KrleFrString\u001b[m\u001b[K’:\n",
      "\u001b[01m\u001b[K../common/maskApi.c:220:3:\u001b[m\u001b[K \u001b[01;35m\u001b[Kwarning: \u001b[m\u001b[Kthis ‘\u001b[01m\u001b[Kwhile\u001b[m\u001b[K’ clause does not guard... [\u001b[01;35m\u001b[K\u001b]8;;https://gcc.gnu.org/onlinedocs/gcc/Warning-Options.html#index-Wmisleading-indentation\u0007-Wmisleading-indentation\u001b]8;;\u0007\u001b[m\u001b[K]\n",
      "  220 |   \u001b[01;35m\u001b[Kwhile\u001b[m\u001b[K( s[m] ) m++; cnts=malloc(sizeof(uint)*m); m=0;\n",
      "      |   \u001b[01;35m\u001b[K^~~~~\u001b[m\u001b[K\n",
      "\u001b[01m\u001b[K../common/maskApi.c:220:22:\u001b[m\u001b[K \u001b[01;36m\u001b[Knote: \u001b[m\u001b[K...this statement, but the latter is misleadingly indented as if it were guarded by the ‘\u001b[01m\u001b[Kwhile\u001b[m\u001b[K’\n",
      "  220 |   while( s[m] ) m++; \u001b[01;36m\u001b[Kcnts\u001b[m\u001b[K=malloc(sizeof(uint)*m); m=0;\n",
      "      |                      \u001b[01;36m\u001b[K^~~~\u001b[m\u001b[K\n",
      "\u001b[01m\u001b[K../common/maskApi.c:228:5:\u001b[m\u001b[K \u001b[01;35m\u001b[Kwarning: \u001b[m\u001b[Kthis ‘\u001b[01m\u001b[Kif\u001b[m\u001b[K’ clause does not guard... [\u001b[01;35m\u001b[K\u001b]8;;https://gcc.gnu.org/onlinedocs/gcc/Warning-Options.html#index-Wmisleading-indentation\u0007-Wmisleading-indentation\u001b]8;;\u0007\u001b[m\u001b[K]\n",
      "  228 |     \u001b[01;35m\u001b[Kif\u001b[m\u001b[K(m>2) x+=(long) cnts[m-2]; cnts[m++]=(uint) x;\n",
      "      |     \u001b[01;35m\u001b[K^~\u001b[m\u001b[K\n",
      "\u001b[01m\u001b[K../common/maskApi.c:228:34:\u001b[m\u001b[K \u001b[01;36m\u001b[Knote: \u001b[m\u001b[K...this statement, but the latter is misleadingly indented as if it were guarded by the ‘\u001b[01m\u001b[Kif\u001b[m\u001b[K’\n",
      "  228 |     if(m>2) x+=(long) cnts[m-2]; \u001b[01;36m\u001b[Kcnts\u001b[m\u001b[K[m++]=(uint) x;\n",
      "      |                                  \u001b[01;36m\u001b[K^~~~\u001b[m\u001b[K\n",
      "x86_64-linux-gnu-gcc -pthread -Wno-unused-result -Wsign-compare -DNDEBUG -g -fwrapv -O2 -Wall -g -ffile-prefix-map=/build/python3.9-1n6GrT/python3.9-3.9.5=. -fstack-protector-strong -Wformat -Werror=format-security -g -fwrapv -O2 -g -ffile-prefix-map=/build/python3.9-1n6GrT/python3.9-3.9.5=. -fstack-protector-strong -Wformat -Werror=format-security -Wdate-time -D_FORTIFY_SOURCE=2 -fPIC -I/usr/lib/python3/dist-packages/numpy/core/include -I../common -I/usr/include/python3.9 -c pycocotools/_mask.c -o build/temp.linux-x86_64-3.9/pycocotools/_mask.o -Wno-cpp -Wno-unused-function -std=c99\n",
      "\u001b[01m\u001b[Kx86_64-linux-gnu-gcc:\u001b[m\u001b[K \u001b[01;31m\u001b[Kerror: \u001b[m\u001b[Kpycocotools/_mask.c: No such file or directory\n",
      "\u001b[01m\u001b[Kx86_64-linux-gnu-gcc:\u001b[m\u001b[K \u001b[01;31m\u001b[Kfatal error: \u001b[m\u001b[Kno input files\n",
      "compilation terminated.\n",
      "error: command '/usr/bin/x86_64-linux-gnu-gcc' failed with exit code 1\n"
     ]
    },
    {
     "name": "stdout",
     "output_type": "stream",
     "text": [
      "make: *** [Makefile:3: all] Error 1\r\n"
     ]
    }
   ],
   "source": [
    "!mkdir -p data\n",
    "\n",
    "!cd data && wget http://images.cocodataset.org/zips/train2017.zip \n",
    "!cd data && wget http://images.cocodataset.org/zips/val2017.zip \n",
    "!cd data && wget http://images.cocodataset.org/annotations/annotations_trainval2017.zip \n",
    "  \n",
    "!cd data && unzip -q train2017.zip\n",
    "!cd data && unzip -q val2017.zip\n",
    "!cd data && unzip -q annotations_trainval2017.zip\n",
    "\n",
    "!cd data && git clone https://github.com/cocodataset/cocoapi\n",
    "!cd data/cocoapi/PythonAPI && make"
   ]
  },
  {
   "cell_type": "markdown",
   "metadata": {
    "id": "j6nrunvCIwsN"
   },
   "source": [
    "### Импорт необходимых библиотек"
   ]
  },
  {
   "cell_type": "code",
   "execution_count": null,
   "metadata": {
    "id": "zvoeKMnP0V7j"
   },
   "outputs": [],
   "source": [
    "import os\n",
    "import skimage.io as io\n",
    "import numpy as np"
   ]
  },
  {
   "cell_type": "markdown",
   "metadata": {
    "id": "YF3HfXKCIwsS"
   },
   "source": [
    "### Импорт TensorFlow"
   ]
  },
  {
   "cell_type": "code",
   "execution_count": null,
   "metadata": {
    "id": "yBgoFf2C1eOT"
   },
   "outputs": [],
   "source": [
    "import tensorflow as tf\n",
    "print('TensorFlow version:', tf.__version__)"
   ]
  },
  {
   "cell_type": "markdown",
   "metadata": {
    "id": "EzshxL7SSxZy"
   },
   "source": [
    "### Импорт библиотеки COCO API\n",
    "Там содержатся различные функции для чтения и обработки датасета COCO"
   ]
  },
  {
   "cell_type": "code",
   "execution_count": null,
   "metadata": {
    "id": "FLYZPXQg1m94"
   },
   "outputs": [],
   "source": [
    "COCO_ROOT = './data/'\n",
    "import sys\n",
    "sys.path.insert(0, os.path.join(COCO_ROOT, 'cocoapi/PythonAPI'))\n",
    "from pycocotools.coco import COCO"
   ]
  },
  {
   "cell_type": "markdown",
   "metadata": {
    "id": "SptHv3XhIwsZ"
   },
   "source": [
    "### Наш класс Dataset\n",
    "Этот класс конструирует экземпляры `tf.data.Dataset` и является универсальным для сегментации (подходит для использования с различными датасетами)\n",
    "\n",
    "Однако, это абстрактный класс, в котром не реализован метод чтения датасета с диска, так как этот метод может отличаться для разных датасетов"
   ]
  },
  {
   "cell_type": "code",
   "execution_count": null,
   "metadata": {
    "id": "bZhpoFlh1rmE"
   },
   "outputs": [],
   "source": [
    "class Dataset():\n",
    "\n",
    "    def crop_images(self, img, inp_size, random_crop=False):\n",
    "        shape = tf.shape(img)\n",
    "        pad = (\n",
    "            [0, tf.maximum(inp_size - shape[0], 0)],\n",
    "            [0, tf.maximum(inp_size - shape[1], 0)],\n",
    "            [0, 0],\n",
    "        )\n",
    "        img = tf.pad(img, pad)\n",
    "\n",
    "        if random_crop:\n",
    "            img = tf.random_crop(img, (inp_size, inp_size, shape[2]))\n",
    "        else: # central crop\n",
    "            shape = tf.shape(img)\n",
    "            ho = (shape[0] - inp_size) // 2\n",
    "            wo = (shape[1] - inp_size) // 2\n",
    "            img = img[ho:ho+inp_size, wo:wo+inp_size, :]\n",
    "\n",
    "        return img\n",
    "\n",
    "    def train_dataset(self, batch_size, epochs, inp_size):\n",
    "\n",
    "        def item_to_images(item):\n",
    "            random_crop = True\n",
    "            img_combined = tf.py_function(self.read_images, [item], tf.uint8)\n",
    "            img_combined = self.crop_images(img_combined, inp_size, random_crop)\n",
    "\n",
    "            img = tf.cast(img_combined[...,:3], tf.float32) / np.float32(255.)\n",
    "            mask_class = tf.cast(img_combined[...,3:4], tf.float32)\n",
    "            return img, mask_class\n",
    "\n",
    "        dataset = tf.data.Dataset.from_tensor_slices(self.img_list)\n",
    "        dataset = dataset.shuffle(buffer_size=len(self.img_list))\n",
    "        dataset = dataset.map(item_to_images)\n",
    "        dataset = dataset.repeat(epochs)\n",
    "        dataset = dataset.batch(batch_size, drop_remainder=True)\n",
    "\n",
    "        return dataset\n",
    "\n",
    "    def val_dataset(self, batch_size, inp_size):\n",
    "\n",
    "        def item_to_images(item):\n",
    "            random_crop = False\n",
    "            img_combined = tf.py_function(self.read_images, [item], tf.uint8)\n",
    "            img_combined = self.crop_images(img_combined, inp_size, random_crop)\n",
    "\n",
    "            img = tf.cast(img_combined[...,:3], tf.float32) / np.float32(255.)\n",
    "            mask_class = tf.cast(img_combined[...,3:4], tf.float32)\n",
    "            return img, mask_class\n",
    "\n",
    "        dataset = tf.data.Dataset.from_tensor_slices(self.img_list)\n",
    "        dataset = dataset.map(item_to_images)\n",
    "        dataset = dataset.batch(batch_size, drop_remainder=True)\n",
    "\n",
    "        return dataset"
   ]
  },
  {
   "cell_type": "markdown",
   "metadata": {
    "id": "3o0f-07gIwsb"
   },
   "source": [
    "### Наш класс COCO_Dataset\n",
    "Класс, наследованный от нашего класса `Dataset`, в котром реализован метод `read_images`, специфичный для датасета COCO"
   ]
  },
  {
   "cell_type": "code",
   "execution_count": null,
   "metadata": {
    "id": "MjYwt86l1xMt"
   },
   "outputs": [],
   "source": [
    "class COCO_Dataset(Dataset):\n",
    "\n",
    "    def __init__(self, sublist):\n",
    "        ann_file_fpath = os.path.join(COCO_ROOT, 'annotations', 'instances_'+sublist+'2017.json')\n",
    "        self.coco = COCO(ann_file_fpath)\n",
    "        self.cat_ids = self.coco.getCatIds(catNms=['person'])\n",
    "        self.img_list = self.coco.getImgIds(catIds=self.cat_ids)\n",
    "\n",
    "    def read_images(self, img_id):\n",
    "        img_id = int(img_id.numpy())\n",
    "        img_data = self.coco.loadImgs(img_id)[0]\n",
    "        img_fname = '/'.join(img_data['coco_url'].split('/')[-2:])\n",
    "\n",
    "        img = io.imread(os.path.join(COCO_ROOT, img_fname))\n",
    "        if len(img.shape) == 2:\n",
    "            img = np.tile(img[..., None], (1, 1, 3))\n",
    "\n",
    "        ann_ids = self.coco.getAnnIds(imgIds=img_data['id'], catIds=self.cat_ids, iscrowd=None)\n",
    "        anns = self.coco.loadAnns(ann_ids)\n",
    "        mask_class = np.zeros((img.shape[0], img.shape[1]), dtype=np.uint8)\n",
    "        for i in range(len(anns)):\n",
    "            mask_class += self.coco.annToMask(anns[i])\n",
    "        mask_class = (mask_class > 0).astype(np.uint8)\n",
    "\n",
    "        img_combined = np.concatenate([img, mask_class[..., None]], axis=2)\n",
    "\n",
    "        return img_combined"
   ]
  },
  {
   "cell_type": "markdown",
   "metadata": {
    "id": "zDbO8hU2Iwse"
   },
   "source": [
    "### Создание обучающего и вализационного датасета\n",
    "Сначала создаются два экземпляра класса `COCO_Dataset`, в конструкторе которого указывается тип датасета (указание для COCO - откуда какие читать изображения)\n",
    "\n",
    "Далее вызываются функции `train_dataset` и `val_dataset` которые создают экземпляры `tf.data.Dataset` (в первом и втором случае логика и пайплайн данных в этих датасетов отличаются)"
   ]
  },
  {
   "cell_type": "code",
   "execution_count": null,
   "metadata": {
    "id": "cdevykTc1zWz"
   },
   "outputs": [],
   "source": [
    "COCO_dataset_train = COCO_Dataset('train')\n",
    "COCO_dataset_val = COCO_Dataset('val')\n",
    "\n",
    "#train_ds = COCO_dataset_train.train_dataset(...)\n",
    "#val_ds = COCO_dataset_val.val_dataset(...)"
   ]
  },
  {
   "cell_type": "code",
   "execution_count": null,
   "metadata": {
    "id": "JwtK-9oBJp7Q"
   },
   "outputs": [],
   "source": []
  }
 ],
 "metadata": {
  "accelerator": "GPU",
  "colab": {
   "collapsed_sections": [],
   "name": "Семантическая сегментация. Домашняя работа.ipynb",
   "provenance": []
  },
  "kernelspec": {
   "display_name": "Python 3 (ipykernel)",
   "language": "python",
   "name": "python3"
  },
  "language_info": {
   "codemirror_mode": {
    "name": "ipython",
    "version": 3
   },
   "file_extension": ".py",
   "mimetype": "text/x-python",
   "name": "python",
   "nbconvert_exporter": "python",
   "pygments_lexer": "ipython3",
   "version": "3.9.5"
  }
 },
 "nbformat": 4,
 "nbformat_minor": 1
}
